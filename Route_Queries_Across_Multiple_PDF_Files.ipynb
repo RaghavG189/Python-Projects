{
  "nbformat": 4,
  "nbformat_minor": 0,
  "metadata": {
    "colab": {
      "provenance": [],
      "include_colab_link": true
    },
    "kernelspec": {
      "name": "python3",
      "display_name": "Python 3"
    },
    "language_info": {
      "name": "python"
    }
  },
  "cells": [
    {
      "cell_type": "markdown",
      "metadata": {
        "id": "view-in-github",
        "colab_type": "text"
      },
      "source": [
        "<a href=\"https://colab.research.google.com/github/RaghavG189/Python-Projects/blob/main/Route_Queries_Across_Multiple_PDF_Files.ipynb\" target=\"_parent\"><img src=\"https://colab.research.google.com/assets/colab-badge.svg\" alt=\"Open In Colab\"/></a>"
      ]
    },
    {
      "cell_type": "code",
      "execution_count": null,
      "metadata": {
        "id": "Fh-2HRvhFC2N"
      },
      "outputs": [],
      "source": [
        "!pip install llama-index\n",
        "!pip install llama-index-readers-file"
      ]
    },
    {
      "cell_type": "code",
      "source": [
        "from google.colab import files\n",
        "from llama_index.readers.file import PDFReader\n",
        "import time\n",
        "\n",
        "uploaded = files.upload()\n",
        "loader = PDFReader()\n",
        "\n",
        "all_documents = [] # Initialize an empty list to store documents\n",
        "dfiles = list(uploaded.keys())\n",
        "\n",
        "for dfile in dfiles:\n",
        "  # Load data for each file and extend the list\n",
        "  documents = loader.load_data(dfile)\n",
        "  all_documents.append(documents)\n",
        "  print(f\"Loaded {len(documents)} pages from {dfile}\")\n",
        "\n",
        "# Now all_documents contains all pages from all uploaded PDFs\n",
        "print(f\"\\nTotal loaded documents: {len(all_documents)}\")"
      ],
      "metadata": {
        "id": "jQx9mOiKIu4x"
      },
      "execution_count": null,
      "outputs": []
    },
    {
      "cell_type": "code",
      "source": [
        "import uuid\n",
        "\n",
        "pdf_metadata_store = []\n",
        "\n",
        "for dfile, documents in zip(dfiles, all_documents):\n",
        "  file_id = str(uuid.uuid4())  # Assigns Unique ID\n",
        "  user_id = \"xyz\"\n",
        "  year = \"2024\"\n",
        "  filename = f\"{dfile}\"\n",
        "\n",
        "  for i, doc in enumerate(documents):\n",
        "     metadata = {\n",
        "        \"file_id\": file_id,\n",
        "        \"user_id\": user_id,\n",
        "        \"doc_type\": \"unknown\",  # We'll classify it later\n",
        "        \"year\": year,\n",
        "        \"filename\": filename,\n",
        "        \"page_number\": i + 1,\n",
        "        \"text\": doc.text\n",
        "     }\n",
        "     pdf_metadata_store.append(metadata)"
      ],
      "metadata": {
        "id": "L55egrwQOBWC"
      },
      "execution_count": null,
      "outputs": []
    },
    {
      "cell_type": "code",
      "source": [
        "def gemini_model(prompt):\n",
        "    import google.generativeai as genai\n",
        "\n",
        "    genai.configure(api_key=\"\")\n",
        "\n",
        "    model = genai.GenerativeModel(\"models/gemini-2.0-flash\")\n",
        "    response = model.generate_content(prompt)\n",
        "\n",
        "    return response.text"
      ],
      "metadata": {
        "id": "RtVZohMzQPmy"
      },
      "execution_count": null,
      "outputs": []
    },
    {
      "cell_type": "code",
      "source": [
        "def classify_query_llm(query, metadata_store):\n",
        "    doc_list = \"\\n\".join(\n",
        "        [f\"{i+1}. {doc['filename']} — doc_type: {doc['doc_type']}\" for i, doc in enumerate(metadata_store)]\n",
        "    )\n",
        "\n",
        "    prompt = f\"\"\"\n",
        "  You are an intelligent assistant that routes user queries to the most relevant document.\n",
        "\n",
        "  Available documents:\n",
        "  {doc_list}\n",
        "\n",
        "  User query: \"{query}\"\n",
        "\n",
        "  Which document(s) are most likely to contain the answer?\n",
        "  Respond with one of the following types:\n",
        "  [\"pay_stub\", \"loan_form\", \"resume\", \"contract\", \"w2\", \"unknown\"]\n",
        "  Return just the word.\n",
        "  \"\"\"\n",
        "\n",
        "    print(prompt)\n",
        "    response = gemini_model(prompt)\n",
        "    return response.strip()"
      ],
      "metadata": {
        "id": "A5D7m5CCQQ9-"
      },
      "execution_count": null,
      "outputs": []
    },
    {
      "cell_type": "code",
      "source": [
        "query = \"What are the fees mentioned in the documents?\"\n",
        "predicted_doc_type = classify_query_llm(query, pdf_metadata_store)\n",
        "print(predicted_doc_type)"
      ],
      "metadata": {
        "id": "6zRz2Mv7Qbab"
      },
      "execution_count": null,
      "outputs": []
    },
    {
      "cell_type": "code",
      "source": [
        "def classify_doc_type_llm(text, max_chars=5000):\n",
        "    # Truncate text to avoid token overflow\n",
        "    truncated_text = text[:max_chars]\n",
        "\n",
        "    prompt = f\"\"\"\n",
        "You are classifying a document into one of the following types:\n",
        "[\"pay_stub\", \"loan_form\", \"resume\", \"contract\", \"w2\", \"unknown\"]\n",
        "\n",
        "Document content:\n",
        "\\\"\\\"\\\"\n",
        "{truncated_text}\n",
        "\\\"\\\"\\\"\n",
        "\n",
        "What is the best doc_type label for this document? Respond with only one of the labels above.\n",
        "\"\"\"\n",
        "    try:\n",
        "        response = gemini_model(prompt)\n",
        "        return response.strip().lower()\n",
        "    except Exception as e:\n",
        "        print(\"LLM failed:\", e)\n",
        "        return \"unknown\""
      ],
      "metadata": {
        "id": "vWhcNhGBQfUK"
      },
      "execution_count": null,
      "outputs": []
    },
    {
      "cell_type": "code",
      "source": [
        "for i, doc in enumerate(pdf_metadata_store):\n",
        "    print(f\"Classifying doc {i+1}...\")\n",
        "    doc[\"doc_type\"] = classify_doc_type_llm(doc[\"text\"])\n",
        "    print(doc[\"doc_type\"])\n",
        "    #time.sleep(1)  # Optional: avoid rate limiting"
      ],
      "metadata": {
        "id": "fvAnIz9tQm2S"
      },
      "execution_count": null,
      "outputs": []
    },
    {
      "cell_type": "code",
      "source": [
        "def retrieve_files_by_doc_type(doc_type, metadata_store):\n",
        "    return [doc for doc in metadata_store if doc[\"doc_type\"] == doc_type]\n",
        "\n",
        "# Call the function using the predicted type\n",
        "matched_files = retrieve_files_by_doc_type(predicted_doc_type, pdf_metadata_store)\n",
        "\n",
        "# Display matched documents\n",
        "print(\"Matched Documents:\")\n",
        "for doc in matched_files:\n",
        "  print(doc)"
      ],
      "metadata": {
        "id": "D8c7DlmFQoWS"
      },
      "execution_count": null,
      "outputs": []
    },
    {
      "cell_type": "code",
      "source": [
        "import json\n",
        "\n",
        "result = {\n",
        "    \"query\": query,\n",
        "    \"predicted_document_type\": predicted_doc_type,\n",
        "    \"matched_documents\": matched_files\n",
        "}\n",
        "json.dumps(result, indent=2)"
      ],
      "metadata": {
        "id": "w4h5rcvSdNeb"
      },
      "execution_count": null,
      "outputs": []
    }
  ]
}